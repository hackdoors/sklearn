{
 "cells": [
  {
   "cell_type": "code",
   "execution_count": 2,
   "metadata": {},
   "outputs": [
    {
     "data": {
      "text/plain": [
       "<Figure size 500x400 with 1 Axes>"
      ]
     },
     "metadata": {},
     "output_type": "display_data"
    },
    {
     "data": {
      "text/plain": [
       "<Figure size 500x400 with 1 Axes>"
      ]
     },
     "metadata": {},
     "output_type": "display_data"
    },
    {
     "data": {
      "text/plain": [
       "<Figure size 500x400 with 1 Axes>"
      ]
     },
     "metadata": {},
     "output_type": "display_data"
    },
    {
     "data": {
      "text/plain": [
       "<Figure size 500x400 with 1 Axes>"
      ]
     },
     "metadata": {},
     "output_type": "display_data"
    },
    {
     "data": {
      "text/plain": [
       "<Figure size 1000x1600 with 8 Axes>"
      ]
     },
     "metadata": {},
     "output_type": "display_data"
    }
   ],
   "source": [
    "import numpy as np\n",
    "import matplotlib.pyplot as plt\n",
    "from matplotlib.colors import ListedColormap\n",
    "from sklearn import svm\n",
    "from sklearn.datasets import make_circles, make_moons, make_blobs,make_classification\n",
    "\n",
    "n_samples = 100\n",
    "\n",
    "datasets = [\n",
    "    make_moons(n_samples=n_samples, noise=0.2, random_state=0),\n",
    "    make_circles(n_samples=n_samples, noise=0.2, factor=0.5, random_state=1),\n",
    "    make_blobs(n_samples=n_samples, centers=2, random_state=5),\n",
    "    make_classification(n_samples=n_samples,n_features = 2,n_informative=2,n_redundant=0, random_state=5)\n",
    "]\n",
    "\n",
    "Kernel = [\"linear\"]\n",
    "\n",
    "#四个数据集分别是什么样子呢？\n",
    "for X,Y in datasets:\n",
    "    plt.figure(figsize=(5,4))\n",
    "    plt.scatter(X[:,0],X[:,1],c=Y,s=50,cmap=\"rainbow\")\n",
    "\n",
    "nrows=len(datasets)\n",
    "ncols=len(Kernel) + 1\n",
    "\n",
    "fig, axes = plt.subplots(nrows, ncols,figsize=(10,16))\n",
    "\n",
    "#第一层循环：在不同的数据集中循环\n",
    "for ds_cnt, (X,Y) in enumerate(datasets):\n",
    "    \n",
    "    #在图像中的第一列，放置原数据的分布\n",
    "    ax = axes[ds_cnt, 0]\n",
    "    if ds_cnt == 0:\n",
    "        ax.set_title(\"Input data\")\n",
    "    ax.scatter(X[:, 0], X[:, 1], c=Y, zorder=10, cmap=plt.cm.Paired,edgecolors='k')\n",
    "    ax.set_xticks(())\n",
    "    ax.set_yticks(())\n",
    "    \n",
    "    #第二层循环：在不同的核函数中循环\n",
    "    #从图像的第二列开始，一个个填充分类结果\n",
    "    for est_idx, kernel in enumerate(Kernel):\n",
    "        \n",
    "        #定义子图位置\n",
    "        ax = axes[ds_cnt, est_idx + 1]\n",
    "        \n",
    "        #建模\n",
    "        clf = svm.SVC(kernel=kernel, gamma=2).fit(X, Y)\n",
    "        score = clf.score(X, Y)\n",
    "        \n",
    "        #绘制图像本身分布的散点图\n",
    "        ax.scatter(X[:, 0], X[:, 1], c=Y\n",
    "                   ,zorder=10\n",
    "                   ,cmap=plt.cm.Paired,edgecolors='k')\n",
    "        #绘制支持向量\n",
    "        ax.scatter(clf.support_vectors_[:, 0], clf.support_vectors_[:, 1], s=100,\n",
    "                    facecolors='none', zorder=10, edgecolors='white')\n",
    "        \n",
    "        #绘制决策边界\n",
    "        x_min, x_max = X[:, 0].min() - .5, X[:, 0].max() + .5\n",
    "        y_min, y_max = X[:, 1].min() - .5, X[:, 1].max() + .5\n",
    "        \n",
    "        #np.mgrid，合并了我们之前使用的np.linspace和np.meshgrid的用法\n",
    "        #一次性使用最大值和最小值来生成网格\n",
    "        #表示为[起始值：结束值：步长]\n",
    "        #如果步长是复数，则其整数部分就是起始值和结束值之间创建的点的数量，并且结束值被包含在内\n",
    "        XX, YY = np.mgrid[x_min:x_max:200j, y_min:y_max:200j]\n",
    "        #np.c_，类似于np.vstack的功能\n",
    "        Z = clf.decision_function(np.c_[XX.ravel(), YY.ravel()]).reshape(XX.shape)\n",
    "        #填充等高线不同区域的颜色\n",
    "        ax.pcolormesh(XX, YY, Z > 0, cmap=plt.cm.Paired)\n",
    "        #绘制等高线\n",
    "        ax.contour(XX, YY, Z, colors=['k', 'k', 'k'], linestyles=['--', '-', '--'],\n",
    "                    levels=[-1, 0, 1])\n",
    "        \n",
    "        #设定坐标轴为不显示\n",
    "        ax.set_xticks(())\n",
    "        ax.set_yticks(())\n",
    "        \n",
    "        #将标题放在第一行的顶上\n",
    "        if ds_cnt == 0:\n",
    "            ax.set_title(kernel)\n",
    "            \n",
    "        #为每张图添加分类的分数   \n",
    "        ax.text(0.95, 0.06, ('%.2f' % score).lstrip('0')\n",
    "                , size=15\n",
    "                , bbox=dict(boxstyle='round', alpha=0.8, facecolor='white')\n",
    "                \t#为分数添加一个白色的格子作为底色\n",
    "                , transform=ax.transAxes #确定文字所对应的坐标轴，就是ax子图的坐标轴本身\n",
    "                , horizontalalignment='right' #位于坐标轴的什么方向\n",
    "               )\n",
    "\n",
    "plt.tight_layout()\n",
    "plt.show()"
   ]
  },
  {
   "cell_type": "code",
   "execution_count": 3,
   "metadata": {},
   "outputs": [],
   "source": [
    "import numpy as np\n",
    "import matplotlib.pyplot as plt\n",
    "from sklearn import svm\n",
    "from sklearn.datasets import make_blobs"
   ]
  },
  {
   "cell_type": "code",
   "execution_count": 4,
   "metadata": {},
   "outputs": [],
   "source": [
    "class_1 = 500 #类别1有500个样本，10：1\n",
    "class_2 = 50 #类别2只有50个\n",
    "centers = [[0.0, 0.0], [2.0, 2.0]] #设定两个类别的中心\n",
    "clusters_std = [1.5, 0.5] #设定两个类别的方差，通常来说，样本量比较大的类别会更加松散\n",
    "X, y = make_blobs(n_samples=[class_1, class_2],\n",
    "                  centers=centers,\n",
    "                  cluster_std=clusters_std,\n",
    "                  random_state=0, shuffle=False)"
   ]
  },
  {
   "cell_type": "code",
   "execution_count": 5,
   "metadata": {},
   "outputs": [
    {
     "data": {
      "text/plain": [
       "(550, 2)"
      ]
     },
     "execution_count": 5,
     "metadata": {},
     "output_type": "execute_result"
    }
   ],
   "source": [
    "X.shape"
   ]
  },
  {
   "cell_type": "code",
   "execution_count": 6,
   "metadata": {},
   "outputs": [
    {
     "data": {
      "image/png": "[encoded data removed]",
      "text/plain": [
       "<Figure size 432x288 with 1 Axes>"
      ]
     },
     "metadata": {
      "needs_background": "light"
     },
     "output_type": "display_data"
    }
   ],
   "source": [
    "#看看数据集长什么样\n",
    "plt.scatter(X[:, 0], X[:, 1], c=y, cmap=\"rainbow\",s=10)\n",
    "plt.show()\n",
    "#其中红色点是少数类，紫色点是多数类"
   ]
  },
  {
   "cell_type": "code",
   "execution_count": 7,
   "metadata": {},
   "outputs": [
    {
     "data": {
      "text/plain": [
       "SVC(C=1.0, cache_size=200, class_weight=None, coef0=0.0,\n",
       "  decision_function_shape='ovr', degree=3, gamma='auto_deprecated',\n",
       "  kernel='linear', max_iter=-1, probability=False, random_state=None,\n",
       "  shrinking=True, tol=0.001, verbose=False)"
      ]
     },
     "execution_count": 7,
     "metadata": {},
     "output_type": "execute_result"
    }
   ],
   "source": [
    "#不设定class_weight\n",
    "clf = svm.SVC(kernel='linear', C=1.0)\n",
    "clf.fit(X, y)"
   ]
  },
  {
   "cell_type": "code",
   "execution_count": 8,
   "metadata": {},
   "outputs": [
    {
     "data": {
      "text/plain": [
       "SVC(C=1.0, cache_size=200, class_weight={1: 10}, coef0=0.0,\n",
       "  decision_function_shape='ovr', degree=3, gamma='auto_deprecated',\n",
       "  kernel='linear', max_iter=-1, probability=False, random_state=None,\n",
       "  shrinking=True, tol=0.001, verbose=False)"
      ]
     },
     "execution_count": 8,
     "metadata": {},
     "output_type": "execute_result"
    }
   ],
   "source": [
    "#设定class_weight\n",
    "wclf = svm.SVC(kernel='linear', class_weight={1: 10})\n",
    "wclf.fit(X, y)"
   ]
  },
  {
   "cell_type": "code",
   "execution_count": 9,
   "metadata": {},
   "outputs": [
    {
     "data": {
      "text/plain": [
       "0.9127272727272727"
      ]
     },
     "execution_count": 9,
     "metadata": {},
     "output_type": "execute_result"
    }
   ],
   "source": [
    "#给两个模型分别打分看看，这个分数是accuracy准确度\n",
    "#做样本均衡之后，我们的准确率下降了，没有样本均衡的准确率更高\n",
    "clf.score(X,y)\n",
    "\n",
    "wclf.score(X,y)"
   ]
  },
  {
   "cell_type": "code",
   "execution_count": 10,
   "metadata": {},
   "outputs": [
    {
     "data": {
      "image/png": "[encoded data removed]",
      "text/plain": [
       "<Figure size 432x360 with 1 Axes>"
      ]
     },
     "metadata": {
      "needs_background": "light"
     },
     "output_type": "display_data"
    }
   ],
   "source": [
    "#首先要有数据分布\n",
    "plt.figure(figsize=(6,5))\n",
    "plt.scatter(X[:, 0], X[:, 1], c=y, cmap=\"rainbow\",s=10)\n",
    "ax = plt.gca() #获取当前的子图，如果不存在，则创建新的子图\n",
    "\n",
    "#绘制决策边界的第一步：要有网格\n",
    "xlim = ax.get_xlim()\n",
    "ylim = ax.get_ylim()\n",
    "\n",
    "xx = np.linspace(xlim[0], xlim[1], 30)\n",
    "yy = np.linspace(ylim[0], ylim[1], 30)\n",
    "YY, XX = np.meshgrid(yy, xx)\n",
    "xy = np.vstack([XX.ravel(), YY.ravel()]).T\n",
    "\n",
    "#第二步：找出我们的样本点到决策边界的距离\n",
    "Z_clf = clf.decision_function(xy).reshape(XX.shape)\n",
    "a = ax.contour(XX, YY, Z_clf, colors='black', levels=[0], alpha=0.5, linestyles=['-'])\n",
    "\n",
    "Z_wclf = wclf.decision_function(xy).reshape(XX.shape)\n",
    "b = ax.contour(XX, YY, Z_wclf, colors='red', levels=[0], alpha=0.5, linestyles=['-'])\n",
    "\n",
    "#第三步：画图例\n",
    "plt.legend([a.collections[0], b.collections[0]], [\"non weighted\", \"weighted\"],\n",
    "           loc=\"upper right\")\n",
    "plt.show()"
   ]
  },
  {
   "cell_type": "code",
   "execution_count": 11,
   "metadata": {},
   "outputs": [
    {
     "data": {
      "text/plain": [
       "<a list of 1 mcoll.LineCollection objects>"
      ]
     },
     "execution_count": 11,
     "metadata": {},
     "output_type": "execute_result"
    }
   ],
   "source": [
    "a.collections #调用这个等高线对象中画的所有线，返回一个惰性对象"
   ]
  },
  {
   "cell_type": "code",
   "execution_count": 12,
   "metadata": {},
   "outputs": [
    {
     "data": {
      "text/plain": [
       "[<matplotlib.collections.LineCollection at 0x1ad6c7fc1d0>]"
      ]
     },
     "execution_count": 12,
     "metadata": {},
     "output_type": "execute_result"
    }
   ],
   "source": [
    "#用[*]把它打开试试看\n",
    "[*a.collections] #返回了一个linecollection对象，其实就是我们等高线里所有的线的列表"
   ]
  },
  {
   "cell_type": "code",
   "execution_count": 13,
   "metadata": {},
   "outputs": [
    {
     "data": {
      "text/plain": [
       "<matplotlib.collections.LineCollection at 0x1ad6c7fc1d0>"
      ]
     },
     "execution_count": 13,
     "metadata": {},
     "output_type": "execute_result"
    }
   ],
   "source": [
    "#现在我们只有一条线，所以我们可以使用索引0来锁定这个对象\n",
    "a.collections[0]"
   ]
  },
  {
   "cell_type": "code",
   "execution_count": 14,
   "metadata": {},
   "outputs": [],
   "source": [
    "#plt.legend([对象列表],[图例列表],loc)\n",
    "#只要对象列表和图例列表相对应，就可以显示出图例"
   ]
  },
  {
   "cell_type": "code",
   "execution_count": 15,
   "metadata": {},
   "outputs": [
    {
     "data": {
      "text/plain": [
       "0.7142857142857143"
      ]
     },
     "execution_count": 15,
     "metadata": {},
     "output_type": "execute_result"
    }
   ],
   "source": [
    "#所有判断正确并确实为1的样本 / 所有被判断为1的样本\n",
    "#对于没有class_weight，没有做样本平衡的灰色决策边界来说：\n",
    "(y[y == clf.predict(X)] == 1).sum()/(clf.predict(X) == 1).sum()"
   ]
  },
  {
   "cell_type": "code",
   "execution_count": 16,
   "metadata": {},
   "outputs": [
    {
     "data": {
      "text/plain": [
       "30"
      ]
     },
     "execution_count": 16,
     "metadata": {},
     "output_type": "execute_result"
    }
   ],
   "source": [
    "(y[y == clf.predict(X)] == 1).sum() #True = 1, False =1 #真实值等于预测值的全部点"
   ]
  },
  {
   "cell_type": "code",
   "execution_count": 17,
   "metadata": {},
   "outputs": [
    {
     "data": {
      "text/plain": [
       "0"
      ]
     },
     "execution_count": 17,
     "metadata": {},
     "output_type": "execute_result"
    }
   ],
   "source": [
    "int(False)"
   ]
  },
  {
   "cell_type": "code",
   "execution_count": 18,
   "metadata": {},
   "outputs": [
    {
     "data": {
      "text/plain": [
       "0.5102040816326531"
      ]
     },
     "execution_count": 18,
     "metadata": {},
     "output_type": "execute_result"
    }
   ],
   "source": [
    "#对于有class_weight，做了样本平衡的红色决策边界来说：\n",
    "(y[y == wclf.predict(X)] == 1).sum()/(wclf.predict(X) == 1).sum()"
   ]
  },
  {
   "cell_type": "code",
   "execution_count": 19,
   "metadata": {},
   "outputs": [
    {
     "data": {
      "text/plain": [
       "0.6"
      ]
     },
     "execution_count": 19,
     "metadata": {},
     "output_type": "execute_result"
    }
   ],
   "source": [
    "#所有predict为1的点 / 全部为1的点的比例\n",
    "#对于没有class_weight，没有做样本平衡的灰色决策边界来说：\n",
    "(y[y == clf.predict(X)] == 1).sum()/(y == 1).sum()"
   ]
  },
  {
   "cell_type": "code",
   "execution_count": 20,
   "metadata": {},
   "outputs": [
    {
     "data": {
      "text/plain": [
       "1.0"
      ]
     },
     "execution_count": 20,
     "metadata": {},
     "output_type": "execute_result"
    }
   ],
   "source": [
    "#对于有class_weight，做了样本平衡的红色决策边界来说：\n",
    "(y[y == wclf.predict(X)] == 1).sum()/(y == 1).sum()"
   ]
  },
  {
   "cell_type": "code",
   "execution_count": 21,
   "metadata": {},
   "outputs": [
    {
     "data": {
      "text/plain": [
       "0.976"
      ]
     },
     "execution_count": 21,
     "metadata": {},
     "output_type": "execute_result"
    }
   ],
   "source": [
    "#所有被正确预测为0的样本 / 所有的0样本\n",
    "#对于没有class_weight，没有做样本平衡的灰色决策边界来说：\n",
    "(y[y == clf.predict(X)] == 0).sum()/(y == 0).sum()"
   ]
  },
  {
   "cell_type": "code",
   "execution_count": 22,
   "metadata": {},
   "outputs": [
    {
     "data": {
      "text/plain": [
       "0.904"
      ]
     },
     "execution_count": 22,
     "metadata": {},
     "output_type": "execute_result"
    }
   ],
   "source": [
    "#对于有class_weight，做了样本平衡的红色决策边界来说：\n",
    "(y[y == wclf.predict(X)] == 0).sum()/(y == 0).sum()"
   ]
  },
  {
   "cell_type": "code",
   "execution_count": 23,
   "metadata": {},
   "outputs": [
    {
     "data": {
      "image/png": "[encoded data removed]",
      "text/plain": [
       "<Figure size 432x288 with 1 Axes>"
      ]
     },
     "metadata": {
      "needs_background": "light"
     },
     "output_type": "display_data"
    }
   ],
   "source": [
    "class_1_ = 7\n",
    "class_2_ = 4\n",
    "centers_ = [[0.0, 0.0], [1,1]]\n",
    "clusters_std = [0.5, 1]\n",
    "X_, y_ = make_blobs(n_samples=[class_1_, class_2_],\n",
    "                  centers=centers_,\n",
    "                  cluster_std=clusters_std,\n",
    "                  random_state=0, shuffle=False)\n",
    "plt.scatter(X_[:, 0], X_[:, 1], c=y_, cmap=\"rainbow\",s=30)\n",
    "plt.show()"
   ]
  },
  {
   "cell_type": "code",
   "execution_count": 24,
   "metadata": {},
   "outputs": [],
   "source": [
    "from sklearn.linear_model import LogisticRegression as LogiR"
   ]
  },
  {
   "cell_type": "code",
   "execution_count": 25,
   "metadata": {},
   "outputs": [
    {
     "name": "stderr",
     "output_type": "stream",
     "text": [
      "C:\\Python\\lib\\site-packages\\sklearn\\linear_model\\logistic.py:433: FutureWarning: Default solver will be changed to 'lbfgs' in 0.22. Specify a solver to silence this warning.\n",
      "  FutureWarning)\n"
     ]
    }
   ],
   "source": [
    "clf_lo = LogiR().fit(X_,y_)"
   ]
  },
  {
   "cell_type": "code",
   "execution_count": 26,
   "metadata": {},
   "outputs": [],
   "source": [
    "prob = clf_lo.predict_proba(X_)"
   ]
  },
  {
   "cell_type": "code",
   "execution_count": 27,
   "metadata": {},
   "outputs": [
    {
     "data": {
      "text/plain": [
       "(11, 2)"
      ]
     },
     "execution_count": 27,
     "metadata": {},
     "output_type": "execute_result"
    }
   ],
   "source": [
    "prob.shape"
   ]
  },
  {
   "cell_type": "code",
   "execution_count": 28,
   "metadata": {},
   "outputs": [],
   "source": [
    "#将样本和概率放到一个DataFrame中\n",
    "import pandas as pd\n",
    "prob = pd.DataFrame(prob)"
   ]
  },
  {
   "cell_type": "code",
   "execution_count": 29,
   "metadata": {},
   "outputs": [],
   "source": [
    "prob.columns = [\"0\",\"1\"]"
   ]
  },
  {
   "cell_type": "code",
   "execution_count": 30,
   "metadata": {},
   "outputs": [
    {
     "data": {
      "text/html": [
       "<div>\n",
       "<style scoped>\n",
       "    .dataframe tbody tr th:only-of-type {\n",
       "        vertical-align: middle;\n",
       "    }\n",
       "\n",
       "    .dataframe tbody tr th {\n",
       "        vertical-align: top;\n",
       "    }\n",
       "\n",
       "    .dataframe thead th {\n",
       "        text-align: right;\n",
       "    }\n",
       "</style>\n",
       "<table border=\"1\" class=\"dataframe\">\n",
       "  <thead>\n",
       "    <tr style=\"text-align: right;\">\n",
       "      <th></th>\n",
       "      <th>0</th>\n",
       "      <th>1</th>\n",
       "    </tr>\n",
       "  </thead>\n",
       "  <tbody>\n",
       "    <tr>\n",
       "      <th>0</th>\n",
       "      <td>0.604664</td>\n",
       "      <td>0.395336</td>\n",
       "    </tr>\n",
       "    <tr>\n",
       "      <th>1</th>\n",
       "      <td>0.458916</td>\n",
       "      <td>0.541084</td>\n",
       "    </tr>\n",
       "    <tr>\n",
       "      <th>2</th>\n",
       "      <td>0.717986</td>\n",
       "      <td>0.282014</td>\n",
       "    </tr>\n",
       "    <tr>\n",
       "      <th>3</th>\n",
       "      <td>0.679109</td>\n",
       "      <td>0.320891</td>\n",
       "    </tr>\n",
       "    <tr>\n",
       "      <th>4</th>\n",
       "      <td>0.664739</td>\n",
       "      <td>0.335261</td>\n",
       "    </tr>\n",
       "    <tr>\n",
       "      <th>5</th>\n",
       "      <td>0.562775</td>\n",
       "      <td>0.437225</td>\n",
       "    </tr>\n",
       "    <tr>\n",
       "      <th>6</th>\n",
       "      <td>0.662054</td>\n",
       "      <td>0.337946</td>\n",
       "    </tr>\n",
       "    <tr>\n",
       "      <th>7</th>\n",
       "      <td>0.355167</td>\n",
       "      <td>0.644833</td>\n",
       "    </tr>\n",
       "    <tr>\n",
       "      <th>8</th>\n",
       "      <td>0.381606</td>\n",
       "      <td>0.618394</td>\n",
       "    </tr>\n",
       "    <tr>\n",
       "      <th>9</th>\n",
       "      <td>0.585284</td>\n",
       "      <td>0.414716</td>\n",
       "    </tr>\n",
       "    <tr>\n",
       "      <th>10</th>\n",
       "      <td>0.501493</td>\n",
       "      <td>0.498507</td>\n",
       "    </tr>\n",
       "  </tbody>\n",
       "</table>\n",
       "</div>"
      ],
      "text/plain": [
       "           0         1\n",
       "0   0.604664  0.395336\n",
       "1   0.458916  0.541084\n",
       "2   0.717986  0.282014\n",
       "3   0.679109  0.320891\n",
       "4   0.664739  0.335261\n",
       "5   0.562775  0.437225\n",
       "6   0.662054  0.337946\n",
       "7   0.355167  0.644833\n",
       "8   0.381606  0.618394\n",
       "9   0.585284  0.414716\n",
       "10  0.501493  0.498507"
      ]
     },
     "execution_count": 30,
     "metadata": {},
     "output_type": "execute_result"
    }
   ],
   "source": [
    "prob"
   ]
  },
  {
   "cell_type": "code",
   "execution_count": 31,
   "metadata": {},
   "outputs": [],
   "source": [
    "#手动调节阈值，来改变我们的模型效果\n",
    "for i in range(prob.shape[0]):\n",
    "    if prob.loc[i,\"1\"] > 0.5:\n",
    "        prob.loc[i,\"pred\"] = 1\n",
    "    else:\n",
    "        prob.loc[i,\"pred\"] = 0"
   ]
  },
  {
   "cell_type": "code",
   "execution_count": 32,
   "metadata": {},
   "outputs": [],
   "source": [
    "prob[\"y_true\"] = y_"
   ]
  },
  {
   "cell_type": "code",
   "execution_count": 33,
   "metadata": {},
   "outputs": [],
   "source": [
    "prob = prob.sort_values(by=\"1\",ascending=False)"
   ]
  },
  {
   "cell_type": "code",
   "execution_count": 34,
   "metadata": {},
   "outputs": [
    {
     "data": {
      "text/html": [
       "<div>\n",
       "<style scoped>\n",
       "    .dataframe tbody tr th:only-of-type {\n",
       "        vertical-align: middle;\n",
       "    }\n",
       "\n",
       "    .dataframe tbody tr th {\n",
       "        vertical-align: top;\n",
       "    }\n",
       "\n",
       "    .dataframe thead th {\n",
       "        text-align: right;\n",
       "    }\n",
       "</style>\n",
       "<table border=\"1\" class=\"dataframe\">\n",
       "  <thead>\n",
       "    <tr style=\"text-align: right;\">\n",
       "      <th></th>\n",
       "      <th>0</th>\n",
       "      <th>1</th>\n",
       "      <th>pred</th>\n",
       "      <th>y_true</th>\n",
       "    </tr>\n",
       "  </thead>\n",
       "  <tbody>\n",
       "    <tr>\n",
       "      <th>7</th>\n",
       "      <td>0.355167</td>\n",
       "      <td>0.644833</td>\n",
       "      <td>1.0</td>\n",
       "      <td>1</td>\n",
       "    </tr>\n",
       "    <tr>\n",
       "      <th>8</th>\n",
       "      <td>0.381606</td>\n",
       "      <td>0.618394</td>\n",
       "      <td>1.0</td>\n",
       "      <td>1</td>\n",
       "    </tr>\n",
       "    <tr>\n",
       "      <th>1</th>\n",
       "      <td>0.458916</td>\n",
       "      <td>0.541084</td>\n",
       "      <td>1.0</td>\n",
       "      <td>0</td>\n",
       "    </tr>\n",
       "    <tr>\n",
       "      <th>10</th>\n",
       "      <td>0.501493</td>\n",
       "      <td>0.498507</td>\n",
       "      <td>0.0</td>\n",
       "      <td>1</td>\n",
       "    </tr>\n",
       "    <tr>\n",
       "      <th>5</th>\n",
       "      <td>0.562775</td>\n",
       "      <td>0.437225</td>\n",
       "      <td>0.0</td>\n",
       "      <td>0</td>\n",
       "    </tr>\n",
       "    <tr>\n",
       "      <th>9</th>\n",
       "      <td>0.585284</td>\n",
       "      <td>0.414716</td>\n",
       "      <td>0.0</td>\n",
       "      <td>1</td>\n",
       "    </tr>\n",
       "    <tr>\n",
       "      <th>0</th>\n",
       "      <td>0.604664</td>\n",
       "      <td>0.395336</td>\n",
       "      <td>0.0</td>\n",
       "      <td>0</td>\n",
       "    </tr>\n",
       "    <tr>\n",
       "      <th>6</th>\n",
       "      <td>0.662054</td>\n",
       "      <td>0.337946</td>\n",
       "      <td>0.0</td>\n",
       "      <td>0</td>\n",
       "    </tr>\n",
       "    <tr>\n",
       "      <th>4</th>\n",
       "      <td>0.664739</td>\n",
       "      <td>0.335261</td>\n",
       "      <td>0.0</td>\n",
       "      <td>0</td>\n",
       "    </tr>\n",
       "    <tr>\n",
       "      <th>3</th>\n",
       "      <td>0.679109</td>\n",
       "      <td>0.320891</td>\n",
       "      <td>0.0</td>\n",
       "      <td>0</td>\n",
       "    </tr>\n",
       "    <tr>\n",
       "      <th>2</th>\n",
       "      <td>0.717986</td>\n",
       "      <td>0.282014</td>\n",
       "      <td>0.0</td>\n",
       "      <td>0</td>\n",
       "    </tr>\n",
       "  </tbody>\n",
       "</table>\n",
       "</div>"
      ],
      "text/plain": [
       "           0         1  pred  y_true\n",
       "7   0.355167  0.644833   1.0       1\n",
       "8   0.381606  0.618394   1.0       1\n",
       "1   0.458916  0.541084   1.0       0\n",
       "10  0.501493  0.498507   0.0       1\n",
       "5   0.562775  0.437225   0.0       0\n",
       "9   0.585284  0.414716   0.0       1\n",
       "0   0.604664  0.395336   0.0       0\n",
       "6   0.662054  0.337946   0.0       0\n",
       "4   0.664739  0.335261   0.0       0\n",
       "3   0.679109  0.320891   0.0       0\n",
       "2   0.717986  0.282014   0.0       0"
      ]
     },
     "execution_count": 34,
     "metadata": {},
     "output_type": "execute_result"
    }
   ],
   "source": [
    "prob"
   ]
  },
  {
   "cell_type": "code",
   "execution_count": 35,
   "metadata": {},
   "outputs": [],
   "source": [
    "from sklearn.metrics import confusion_matrix as CM, precision_score as P, recall_score as R"
   ]
  },
  {
   "cell_type": "code",
   "execution_count": 36,
   "metadata": {},
   "outputs": [
    {
     "data": {
      "text/plain": [
       "array([[2, 2],\n",
       "       [1, 6]], dtype=int64)"
      ]
     },
     "execution_count": 36,
     "metadata": {},
     "output_type": "execute_result"
    }
   ],
   "source": [
    "CM(prob.loc[:,\"y_true\"],prob.loc[:,\"pred\"],labels=[1,0])"
   ]
  },
  {
   "cell_type": "code",
   "execution_count": 37,
   "metadata": {},
   "outputs": [],
   "source": [
    "#试试看手动计算Precision和Recall?"
   ]
  },
  {
   "cell_type": "code",
   "execution_count": 38,
   "metadata": {},
   "outputs": [
    {
     "data": {
      "text/plain": [
       "0.6666666666666666"
      ]
     },
     "execution_count": 38,
     "metadata": {},
     "output_type": "execute_result"
    }
   ],
   "source": [
    "2/3"
   ]
  },
  {
   "cell_type": "code",
   "execution_count": 39,
   "metadata": {},
   "outputs": [
    {
     "data": {
      "text/plain": [
       "0.5"
      ]
     },
     "execution_count": 39,
     "metadata": {},
     "output_type": "execute_result"
    }
   ],
   "source": [
    "0.5"
   ]
  },
  {
   "cell_type": "code",
   "execution_count": 40,
   "metadata": {},
   "outputs": [
    {
     "data": {
      "text/plain": [
       "0.6666666666666666"
      ]
     },
     "execution_count": 40,
     "metadata": {},
     "output_type": "execute_result"
    }
   ],
   "source": [
    "P(prob.loc[:,\"y_true\"],prob.loc[:,\"pred\"],labels=[1,0])"
   ]
  },
  {
   "cell_type": "code",
   "execution_count": 41,
   "metadata": {},
   "outputs": [
    {
     "data": {
      "text/plain": [
       "0.5"
      ]
     },
     "execution_count": 41,
     "metadata": {},
     "output_type": "execute_result"
    }
   ],
   "source": [
    "R(prob.loc[:,\"y_true\"],prob.loc[:,\"pred\"],labels=[1,0])"
   ]
  },
  {
   "cell_type": "code",
   "execution_count": 42,
   "metadata": {},
   "outputs": [
    {
     "data": {
      "text/html": [
       "<div>\n",
       "<style scoped>\n",
       "    .dataframe tbody tr th:only-of-type {\n",
       "        vertical-align: middle;\n",
       "    }\n",
       "\n",
       "    .dataframe tbody tr th {\n",
       "        vertical-align: top;\n",
       "    }\n",
       "\n",
       "    .dataframe thead th {\n",
       "        text-align: right;\n",
       "    }\n",
       "</style>\n",
       "<table border=\"1\" class=\"dataframe\">\n",
       "  <thead>\n",
       "    <tr style=\"text-align: right;\">\n",
       "      <th></th>\n",
       "      <th>0</th>\n",
       "      <th>1</th>\n",
       "      <th>pred</th>\n",
       "      <th>y_true</th>\n",
       "    </tr>\n",
       "  </thead>\n",
       "  <tbody>\n",
       "    <tr>\n",
       "      <th>7</th>\n",
       "      <td>0.355167</td>\n",
       "      <td>0.644833</td>\n",
       "      <td>1.0</td>\n",
       "      <td>1</td>\n",
       "    </tr>\n",
       "    <tr>\n",
       "      <th>8</th>\n",
       "      <td>0.381606</td>\n",
       "      <td>0.618394</td>\n",
       "      <td>1.0</td>\n",
       "      <td>1</td>\n",
       "    </tr>\n",
       "    <tr>\n",
       "      <th>1</th>\n",
       "      <td>0.458916</td>\n",
       "      <td>0.541084</td>\n",
       "      <td>1.0</td>\n",
       "      <td>0</td>\n",
       "    </tr>\n",
       "    <tr>\n",
       "      <th>10</th>\n",
       "      <td>0.501493</td>\n",
       "      <td>0.498507</td>\n",
       "      <td>0.0</td>\n",
       "      <td>1</td>\n",
       "    </tr>\n",
       "    <tr>\n",
       "      <th>5</th>\n",
       "      <td>0.562775</td>\n",
       "      <td>0.437225</td>\n",
       "      <td>0.0</td>\n",
       "      <td>0</td>\n",
       "    </tr>\n",
       "    <tr>\n",
       "      <th>9</th>\n",
       "      <td>0.585284</td>\n",
       "      <td>0.414716</td>\n",
       "      <td>0.0</td>\n",
       "      <td>1</td>\n",
       "    </tr>\n",
       "    <tr>\n",
       "      <th>0</th>\n",
       "      <td>0.604664</td>\n",
       "      <td>0.395336</td>\n",
       "      <td>0.0</td>\n",
       "      <td>0</td>\n",
       "    </tr>\n",
       "    <tr>\n",
       "      <th>6</th>\n",
       "      <td>0.662054</td>\n",
       "      <td>0.337946</td>\n",
       "      <td>0.0</td>\n",
       "      <td>0</td>\n",
       "    </tr>\n",
       "    <tr>\n",
       "      <th>4</th>\n",
       "      <td>0.664739</td>\n",
       "      <td>0.335261</td>\n",
       "      <td>0.0</td>\n",
       "      <td>0</td>\n",
       "    </tr>\n",
       "    <tr>\n",
       "      <th>3</th>\n",
       "      <td>0.679109</td>\n",
       "      <td>0.320891</td>\n",
       "      <td>0.0</td>\n",
       "      <td>0</td>\n",
       "    </tr>\n",
       "    <tr>\n",
       "      <th>2</th>\n",
       "      <td>0.717986</td>\n",
       "      <td>0.282014</td>\n",
       "      <td>0.0</td>\n",
       "      <td>0</td>\n",
       "    </tr>\n",
       "  </tbody>\n",
       "</table>\n",
       "</div>"
      ],
      "text/plain": [
       "           0         1  pred  y_true\n",
       "7   0.355167  0.644833   1.0       1\n",
       "8   0.381606  0.618394   1.0       1\n",
       "1   0.458916  0.541084   1.0       0\n",
       "10  0.501493  0.498507   0.0       1\n",
       "5   0.562775  0.437225   0.0       0\n",
       "9   0.585284  0.414716   0.0       1\n",
       "0   0.604664  0.395336   0.0       0\n",
       "6   0.662054  0.337946   0.0       0\n",
       "4   0.664739  0.335261   0.0       0\n",
       "3   0.679109  0.320891   0.0       0\n",
       "2   0.717986  0.282014   0.0       0"
      ]
     },
     "execution_count": 42,
     "metadata": {},
     "output_type": "execute_result"
    }
   ],
   "source": [
    "prob"
   ]
  },
  {
   "cell_type": "code",
   "execution_count": 43,
   "metadata": {},
   "outputs": [],
   "source": [
    "for i in range(prob.shape[0]):\n",
    "    if prob.loc[i,\"1\"] > 0.4:\n",
    "        prob.loc[i,\"pred\"] = 1\n",
    "    else:\n",
    "        prob.loc[i,\"pred\"] = 0"
   ]
  },
  {
   "cell_type": "code",
   "execution_count": 44,
   "metadata": {},
   "outputs": [
    {
     "data": {
      "text/plain": [
       "array([[4, 0],\n",
       "       [2, 5]], dtype=int64)"
      ]
     },
     "execution_count": 44,
     "metadata": {},
     "output_type": "execute_result"
    }
   ],
   "source": [
    "CM(prob.loc[:,\"y_true\"],prob.loc[:,\"pred\"],labels=[1,0])"
   ]
  },
  {
   "cell_type": "code",
   "execution_count": 45,
   "metadata": {},
   "outputs": [
    {
     "data": {
      "text/plain": [
       "0.6666666666666666"
      ]
     },
     "execution_count": 45,
     "metadata": {},
     "output_type": "execute_result"
    }
   ],
   "source": [
    "P(prob.loc[:,\"y_true\"],prob.loc[:,\"pred\"],labels=[1,0])"
   ]
  },
  {
   "cell_type": "code",
   "execution_count": 46,
   "metadata": {},
   "outputs": [
    {
     "data": {
      "text/plain": [
       "1.0"
      ]
     },
     "execution_count": 46,
     "metadata": {},
     "output_type": "execute_result"
    }
   ],
   "source": [
    "R(prob.loc[:,\"y_true\"],prob.loc[:,\"pred\"],labels=[1,0])"
   ]
  },
  {
   "cell_type": "code",
   "execution_count": 47,
   "metadata": {},
   "outputs": [],
   "source": [
    "#注意，降低或者升高阈值并不一定能够让模型的效果变好，一切都基于我们要追求怎样的模型效果\n",
    "#通常来说，降低阈值能够升高Recall"
   ]
  },
  {
   "cell_type": "code",
   "execution_count": 48,
   "metadata": {},
   "outputs": [],
   "source": [
    "#使用最初的X和y，样本不均衡的这个模型\n",
    "\n",
    "class_1 = 500 #类别1有500个样本\n",
    "class_2 = 50 #类别2只有50个\n",
    "centers = [[0.0, 0.0], [2.0, 2.0]] #设定两个类别的中心\n",
    "clusters_std = [1.5, 0.5] #设定两个类别的方差，通常来说，样本量比较大的类别会更加松散\n",
    "X, y = make_blobs(n_samples=[class_1, class_2],\n",
    "                  centers=centers,\n",
    "                  cluster_std=clusters_std,\n",
    "                  random_state=0, shuffle=False)"
   ]
  },
  {
   "cell_type": "code",
   "execution_count": 49,
   "metadata": {},
   "outputs": [
    {
     "data": {
      "text/plain": [
       "<matplotlib.collections.PathCollection at 0x1ad6d2f50f0>"
      ]
     },
     "execution_count": 49,
     "metadata": {},
     "output_type": "execute_result"
    },
    {
     "data": {
      "image/png": "[encoded data removed]",
      "text/plain": [
       "<Figure size 432x288 with 1 Axes>"
      ]
     },
     "metadata": {
      "needs_background": "light"
     },
     "output_type": "display_data"
    }
   ],
   "source": [
    "#看看数据集长什么样\n",
    "plt.scatter(X[:, 0], X[:, 1], c=y, cmap=\"rainbow\",s=10)\n",
    "#其中红色点是少数类，紫色点是多数类"
   ]
  },
  {
   "cell_type": "code",
   "execution_count": 50,
   "metadata": {},
   "outputs": [],
   "source": [
    "clf_proba = svm.SVC(kernel=\"linear\",C=1.0,probability=True).fit(X,y)"
   ]
  },
  {
   "cell_type": "code",
   "execution_count": 51,
   "metadata": {},
   "outputs": [
    {
     "data": {
      "text/plain": [
       "(550, 2)"
      ]
     },
     "execution_count": 51,
     "metadata": {},
     "output_type": "execute_result"
    }
   ],
   "source": [
    "clf_proba.predict_proba(X).shape #生成的各类标签下的概率"
   ]
  },
  {
   "cell_type": "code",
   "execution_count": 52,
   "metadata": {},
   "outputs": [
    {
     "data": {
      "text/plain": [
       "(550, 2)"
      ]
     },
     "execution_count": 52,
     "metadata": {},
     "output_type": "execute_result"
    }
   ],
   "source": [
    "clf_proba.predict_proba(X).shape"
   ]
  },
  {
   "cell_type": "code",
   "execution_count": 53,
   "metadata": {},
   "outputs": [
    {
     "data": {
      "text/plain": [
       "array([ -0.39182241,   0.95617053,  -2.24996184,  -2.63659269,\n",
       "        -3.65243197,  -1.67311996,  -2.56396417,  -2.80650393,\n",
       "        -1.76184723,  -4.7948575 ,  -7.59061196,  -3.66174848,\n",
       "        -2.2508023 ,  -4.27626526,   0.78571364,  -3.24751892,\n",
       "        -8.57016271,  -4.45823747,  -0.14034183,  -5.20657114,\n",
       "        -8.02181046,  -4.18420871,  -5.6222409 ,  -5.12602771,\n",
       "        -7.22592707,  -5.07749638,  -6.72386021,  -3.4945225 ,\n",
       "        -3.51475144,  -5.72941551,  -5.79160724,  -8.06232013,\n",
       "        -4.36303857,  -6.25419679,  -5.59426696,  -2.60919281,\n",
       "        -3.90887478,  -4.38754704,  -6.46432224,  -4.54279979,\n",
       "        -4.78961735,  -5.53727469,   1.33920817,  -2.27766451,\n",
       "        -4.39650854,  -2.97649872,  -2.26771979,  -2.40781748,\n",
       "        -1.41638181,  -3.26142275,  -2.7712218 ,  -4.87288439,\n",
       "        -3.2594128 ,  -5.91189118,   1.48676267,   0.5389064 ,\n",
       "        -2.76188843,  -3.36126945,  -2.64697843,  -1.63635284,\n",
       "        -5.04695135,  -1.59196902,  -5.5195418 ,  -2.10439349,\n",
       "        -2.29646147,  -4.63162339,  -5.21532213,  -4.19325629,\n",
       "        -3.37620335,  -5.0032094 ,  -6.04506666,  -2.84656859,\n",
       "         1.5004014 ,  -4.02677739,  -7.07160609,  -1.66193239,\n",
       "        -6.60981996,  -5.23458676,  -3.70189918,  -6.74089425,\n",
       "        -2.09584948,  -2.28398296,  -4.97899921,  -8.12174085,\n",
       "        -1.52566274,  -1.99176286,  -3.54013094,  -4.8845886 ,\n",
       "        -6.51002015,  -4.8526957 ,  -6.73649174,  -8.50103589,\n",
       "        -5.35477446,  -5.93972132,  -3.09197136,  -5.95218482,\n",
       "        -5.87802088,  -3.41531761,  -1.50581423,   1.69513218,\n",
       "        -5.08155767,  -1.17971205,  -5.3506946 ,  -5.21493342,\n",
       "        -3.73358514,  -2.01273566,  -3.39045625,  -6.34357458,\n",
       "        -3.54776648,  -0.17804673,  -6.26887557,  -4.17973771,\n",
       "        -6.68896346,  -3.46095619,  -5.47965411,  -7.30835247,\n",
       "        -4.41569899,  -4.95103272,  -4.52261342,  -2.32912228,\n",
       "        -5.78601433,  -4.75347157,  -7.10337939,  -0.4589064 ,\n",
       "        -7.67789856,  -4.01780827,  -4.3031773 ,  -1.83727693,\n",
       "        -7.40091653,  -5.95271547,  -6.91568411,  -5.20341905,\n",
       "        -7.19695832,  -3.02927263,  -4.48056922,  -7.48496425,\n",
       "        -0.07011269,  -5.80292499,  -3.38503533,  -4.58498843,\n",
       "        -2.76260661,  -3.01843998,  -2.67539002,  -4.1197355 ,\n",
       "        -0.94129257,  -5.89363772,  -1.6069038 ,  -2.6343464 ,\n",
       "        -3.04465464,  -4.23219535,  -3.91622593,  -5.29389964,\n",
       "        -3.59245628,  -8.41452726,  -3.09845691,  -2.71798914,\n",
       "        -7.1383473 ,  -4.61490324,  -4.57817871,  -4.34638288,\n",
       "        -6.5457838 ,  -4.91701759,  -6.57235561,  -1.01417607,\n",
       "        -3.91893483,  -4.52905816,  -4.47582917,  -7.84694737,\n",
       "        -6.49226452,  -2.82193743,  -2.87607739,  -7.0839848 ,\n",
       "        -5.2681034 ,  -4.4871544 ,  -2.54658631,  -7.54914279,\n",
       "        -2.70628288,  -5.99557957,  -8.02076603,  -4.00226228,\n",
       "        -2.84835501,  -1.9410333 ,  -3.86856886,  -4.99855904,\n",
       "        -6.21947623,  -5.05797444,  -2.97214824,  -3.26123902,\n",
       "        -5.27649982,  -3.13897861,  -6.48514315,  -9.55083209,\n",
       "        -6.46488612,  -7.98793665,  -0.94456569,  -3.41380968,\n",
       "        -7.093158  ,  -5.71901588,  -0.88438995,  -0.24381463,\n",
       "        -6.78212695,  -2.20666714,  -6.65580329,  -2.56305221,\n",
       "        -5.60001636,  -5.43216357,  -4.96741585,  -0.02572912,\n",
       "        -3.21839147,   1.13383091,  -1.58640099,  -7.57106914,\n",
       "        -4.16850181,  -6.48179088,  -4.67852158,  -6.99661419,\n",
       "        -2.1447926 ,  -5.31694653,  -2.63007619,  -2.55890478,\n",
       "        -6.4896746 ,  -3.94241071,  -2.71319258,  -4.70525843,\n",
       "        -5.61592746,  -4.7150336 ,  -2.85352156,  -0.49195707,\n",
       "        -8.16191324,  -3.80462978,  -6.43680611,  -4.58137592,\n",
       "        -1.38912206,  -6.93900334,  -7.7222725 ,  -8.41592264,\n",
       "        -5.613998  ,   0.44396046,  -3.07168078,  -1.36478732,\n",
       "        -1.20153628,  -6.30209808,  -6.49846303,  -0.60518198,\n",
       "        -3.83301464,  -6.40455571,  -0.22680504,   0.54161373,\n",
       "        -5.99626181,  -5.98077412,  -3.45857531,  -2.50268554,\n",
       "        -5.54970836,  -9.26535525,  -4.22097425,  -0.47257602,\n",
       "        -9.33187038,  -4.97705346,  -1.65256318,  -1.0000177 ,\n",
       "        -5.82202444,  -8.34541689,  -4.97060946,  -0.34446784,\n",
       "        -6.95722208,  -7.41413036,  -1.8343221 ,  -7.19145712,\n",
       "        -4.8082824 ,  -4.59805445,  -5.49449995,  -2.25570223,\n",
       "        -5.41145249,  -5.97739476,  -2.94240518,  -3.64911853,\n",
       "        -2.82208944,  -3.34705766,  -8.19712182,  -7.57201089,\n",
       "        -0.61670956,  -6.3752957 ,  -5.06738146,  -2.54344987,\n",
       "        -3.28382401,  -5.9927353 ,  -2.87730848,  -3.58324503,\n",
       "        -7.1488302 ,  -2.63140119,  -8.48092542,  -4.91672751,\n",
       "        -5.7488116 ,  -3.80044426,  -9.27859326,  -2.475992  ,\n",
       "        -6.06980518,  -2.90059294,  -5.22496057,  -5.97575155,\n",
       "        -6.18156775,  -5.38363878,  -7.41985155,  -6.73241325,\n",
       "        -4.43878791,  -9.06614408,  -1.69153658,  -3.71141045,\n",
       "        -3.19852116,  -4.05473804,  -3.45821856,  -4.92039492,\n",
       "        -6.55332449,  -1.28332784,  -4.17989583,  -5.45916562,\n",
       "        -3.80974949,  -4.27838346,  -5.31607024,  -0.62628865,\n",
       "        -2.21276478,  -3.7397342 ,  -6.66779473,  -2.38116892,\n",
       "        -2.83460004,  -7.01238422,  -2.75282445,  -3.01759368,\n",
       "        -6.14970454,  -6.1300394 ,  -7.58620719,  -3.14051577,\n",
       "        -5.82720807,  -2.52236034,  -7.03761018,  -7.82753368,\n",
       "        -8.8447092 ,  -3.11218173,  -4.22074847,  -0.99624534,\n",
       "        -3.45189404,  -1.46956557,  -9.42857926,  -2.75093993,\n",
       "        -0.61665367,  -2.09370852,  -9.34768018,  -3.39876535,\n",
       "        -5.8635608 ,  -2.12987936,  -8.40706474,  -3.84209244,\n",
       "        -0.5100329 ,  -2.48836494,  -1.54663048,  -4.30920238,\n",
       "        -5.73107193,  -1.89978615,  -6.17605033,  -3.10487492,\n",
       "        -5.51376743,  -4.32751131,  -8.20349197,  -3.87477609,\n",
       "        -1.78392197,  -6.17403966,  -6.52743333,  -3.02302099,\n",
       "        -4.99201913,  -5.72548424,  -7.83390422,  -1.19722286,\n",
       "        -4.59974076,  -2.99496132,  -6.83038116,  -5.1842235 ,\n",
       "        -0.78127198,  -2.88907207,  -3.95055581,  -6.33003274,\n",
       "        -4.47772201,  -2.77425683,  -4.44937971,  -4.2292366 ,\n",
       "        -1.15145162,  -4.92325347,  -5.40648383,  -7.37247783,\n",
       "        -4.65237446,  -7.04281259,  -0.69437244,  -4.99227188,\n",
       "        -3.02282976,  -2.52532913,  -6.52636286,  -5.48318846,\n",
       "        -3.71028837,  -6.91757625,  -5.54349414,  -6.05345046,\n",
       "        -0.43986605,  -4.75951272,  -1.82851406,  -3.24432919,\n",
       "        -7.20785221,  -4.0583863 ,  -3.27842271,  -0.68706448,\n",
       "        -2.76021537,  -5.54119808,  -4.08188794,  -6.4244794 ,\n",
       "        -4.76668274,  -0.2040958 ,  -2.42898945,  -2.03283232,\n",
       "        -4.12879797,  -2.70459163,  -6.04997273,  -2.79280244,\n",
       "        -4.20663028,   0.786804  ,  -3.65237777,  -3.55179726,\n",
       "        -5.3460864 , -10.31959605,  -6.69397854,  -6.53784926,\n",
       "        -7.56321471,  -4.98085596,  -1.79893146,  -3.89513404,\n",
       "        -5.18601688,  -3.82352518,  -5.20243998,  -3.11707515,\n",
       "        -5.80322513,  -4.42380099,  -5.74159836,  -6.6468986 ,\n",
       "        -3.18053496,  -4.28898663,  -6.73111304,  -3.21485845,\n",
       "        -4.79047586,  -4.51550728,  -2.70659984,  -3.61545839,\n",
       "        -7.86496861,  -0.1258212 ,  -7.6559803 ,  -3.15269699,\n",
       "        -2.87456418,  -6.74876767,  -0.42574712,  -7.58877495,\n",
       "        -5.30321115,  -4.79881591,  -4.5673199 ,  -3.6865868 ,\n",
       "        -4.46822682,  -1.45060265,  -0.53560561,  -4.94874171,\n",
       "        -1.26112294,  -1.66779284,  -5.57910033,  -5.87103484,\n",
       "        -3.35570045,  -6.25661833,  -1.51564145,   0.85085628,\n",
       "        -3.82725071,  -1.47077448,  -3.36154118,  -5.37972404,\n",
       "        -2.22844631,  -2.78684422,  -3.75603932,  -1.85645   ,\n",
       "        -3.33156093,  -2.32968944,  -5.06053069,  -1.73410541,\n",
       "        -1.68829408,  -3.79892942,  -1.62650712,  -1.00001873,\n",
       "        -6.07170511,  -4.89697898,  -3.66269926,  -3.13731451,\n",
       "        -5.08348781,  -3.71891247,  -2.09779606,  -3.04082162,\n",
       "        -5.12536015,  -2.96071945,  -4.28796395,  -6.6231135 ,\n",
       "         1.00003406,   0.03907036,   0.46718521,  -0.3467975 ,\n",
       "         0.32350521,   0.47563771,   1.10055427,  -0.67580418,\n",
       "        -0.46310299,   0.40806733,   1.17438632,  -0.55152081,\n",
       "         0.84476439,  -0.91257798,   0.63165546,  -0.13845693,\n",
       "        -0.22137683,   1.20116183,   1.18915628,  -0.40676459,\n",
       "         1.35964325,   1.14038015,   1.27914468,   0.19329823,\n",
       "        -0.16790648,  -0.62775078,   0.66095617,   2.18236076,\n",
       "         0.07018415,  -0.26762451,  -0.25529448,   0.32084111,\n",
       "         0.48016592,   0.28189794,   0.60568093,  -1.07472716,\n",
       "        -0.5088941 ,   0.74892526,   0.07203056,  -0.10668727,\n",
       "        -0.15662946,   0.09611498,  -0.39521586,  -0.79874442,\n",
       "         0.65613691,  -0.39386485,  -1.08601917,   1.44693858,\n",
       "         0.62992794,   0.76536897])"
      ]
     },
     "execution_count": 53,
     "metadata": {},
     "output_type": "execute_result"
    }
   ],
   "source": [
    "clf_proba.decision_function(X) "
   ]
  },
  {
   "cell_type": "code",
   "execution_count": 54,
   "metadata": {},
   "outputs": [
    {
     "data": {
      "text/plain": [
       "(550,)"
      ]
     },
     "execution_count": 54,
     "metadata": {},
     "output_type": "execute_result"
    }
   ],
   "source": [
    "clf_proba.decision_function(X).shape"
   ]
  },
  {
   "cell_type": "code",
   "execution_count": 55,
   "metadata": {},
   "outputs": [
    {
     "data": {
      "text/html": [
       "<div>\n",
       "<style scoped>\n",
       "    .dataframe tbody tr th:only-of-type {\n",
       "        vertical-align: middle;\n",
       "    }\n",
       "\n",
       "    .dataframe tbody tr th {\n",
       "        vertical-align: top;\n",
       "    }\n",
       "\n",
       "    .dataframe thead th {\n",
       "        text-align: right;\n",
       "    }\n",
       "</style>\n",
       "<table border=\"1\" class=\"dataframe\">\n",
       "  <thead>\n",
       "    <tr style=\"text-align: right;\">\n",
       "      <th></th>\n",
       "      <th>0</th>\n",
       "      <th>1</th>\n",
       "      <th>pred</th>\n",
       "      <th>y_true</th>\n",
       "    </tr>\n",
       "  </thead>\n",
       "  <tbody>\n",
       "    <tr>\n",
       "      <th>7</th>\n",
       "      <td>0.355167</td>\n",
       "      <td>0.644833</td>\n",
       "      <td>1.0</td>\n",
       "      <td>1</td>\n",
       "    </tr>\n",
       "    <tr>\n",
       "      <th>8</th>\n",
       "      <td>0.381606</td>\n",
       "      <td>0.618394</td>\n",
       "      <td>1.0</td>\n",
       "      <td>1</td>\n",
       "    </tr>\n",
       "    <tr>\n",
       "      <th>1</th>\n",
       "      <td>0.458916</td>\n",
       "      <td>0.541084</td>\n",
       "      <td>1.0</td>\n",
       "      <td>0</td>\n",
       "    </tr>\n",
       "    <tr>\n",
       "      <th>10</th>\n",
       "      <td>0.501493</td>\n",
       "      <td>0.498507</td>\n",
       "      <td>1.0</td>\n",
       "      <td>1</td>\n",
       "    </tr>\n",
       "    <tr>\n",
       "      <th>5</th>\n",
       "      <td>0.562775</td>\n",
       "      <td>0.437225</td>\n",
       "      <td>1.0</td>\n",
       "      <td>0</td>\n",
       "    </tr>\n",
       "    <tr>\n",
       "      <th>9</th>\n",
       "      <td>0.585284</td>\n",
       "      <td>0.414716</td>\n",
       "      <td>1.0</td>\n",
       "      <td>1</td>\n",
       "    </tr>\n",
       "    <tr>\n",
       "      <th>0</th>\n",
       "      <td>0.604664</td>\n",
       "      <td>0.395336</td>\n",
       "      <td>0.0</td>\n",
       "      <td>0</td>\n",
       "    </tr>\n",
       "    <tr>\n",
       "      <th>6</th>\n",
       "      <td>0.662054</td>\n",
       "      <td>0.337946</td>\n",
       "      <td>0.0</td>\n",
       "      <td>0</td>\n",
       "    </tr>\n",
       "    <tr>\n",
       "      <th>4</th>\n",
       "      <td>0.664739</td>\n",
       "      <td>0.335261</td>\n",
       "      <td>0.0</td>\n",
       "      <td>0</td>\n",
       "    </tr>\n",
       "    <tr>\n",
       "      <th>3</th>\n",
       "      <td>0.679109</td>\n",
       "      <td>0.320891</td>\n",
       "      <td>0.0</td>\n",
       "      <td>0</td>\n",
       "    </tr>\n",
       "    <tr>\n",
       "      <th>2</th>\n",
       "      <td>0.717986</td>\n",
       "      <td>0.282014</td>\n",
       "      <td>0.0</td>\n",
       "      <td>0</td>\n",
       "    </tr>\n",
       "  </tbody>\n",
       "</table>\n",
       "</div>"
      ],
      "text/plain": [
       "           0         1  pred  y_true\n",
       "7   0.355167  0.644833   1.0       1\n",
       "8   0.381606  0.618394   1.0       1\n",
       "1   0.458916  0.541084   1.0       0\n",
       "10  0.501493  0.498507   1.0       1\n",
       "5   0.562775  0.437225   1.0       0\n",
       "9   0.585284  0.414716   1.0       1\n",
       "0   0.604664  0.395336   0.0       0\n",
       "6   0.662054  0.337946   0.0       0\n",
       "4   0.664739  0.335261   0.0       0\n",
       "3   0.679109  0.320891   0.0       0\n",
       "2   0.717986  0.282014   0.0       0"
      ]
     },
     "execution_count": 55,
     "metadata": {},
     "output_type": "execute_result"
    }
   ],
   "source": [
    "prob"
   ]
  },
  {
   "cell_type": "code",
   "execution_count": 56,
   "metadata": {},
   "outputs": [
    {
     "data": {
      "text/plain": [
       "array([[4, 0],\n",
       "       [2, 5]], dtype=int64)"
      ]
     },
     "execution_count": 56,
     "metadata": {},
     "output_type": "execute_result"
    }
   ],
   "source": [
    "#首先来看看如何从混淆矩阵中获取FPR和Recall\n",
    "cm = CM(prob.loc[:,\"y_true\"],prob.loc[:,\"pred\"],labels=[1,0])\n",
    "cm"
   ]
  },
  {
   "cell_type": "code",
   "execution_count": 57,
   "metadata": {},
   "outputs": [],
   "source": [
    "#00/all true 0 1-特异度"
   ]
  },
  {
   "cell_type": "code",
   "execution_count": 58,
   "metadata": {},
   "outputs": [
    {
     "data": {
      "text/plain": [
       "0.2857142857142857"
      ]
     },
     "execution_count": 58,
     "metadata": {},
     "output_type": "execute_result"
    }
   ],
   "source": [
    "#FPR #被我们预测错误的0占所有真正为0的样本的比例\n",
    "cm[1,0]/cm[1,:].sum()"
   ]
  },
  {
   "cell_type": "code",
   "execution_count": 59,
   "metadata": {},
   "outputs": [
    {
     "data": {
      "text/plain": [
       "1.0"
      ]
     },
     "execution_count": 59,
     "metadata": {},
     "output_type": "execute_result"
    }
   ],
   "source": [
    "#Recall\n",
    "cm[0,0]/cm[0,:].sum()"
   ]
  },
  {
   "cell_type": "code",
   "execution_count": 60,
   "metadata": {},
   "outputs": [],
   "source": [
    "#概率 clf_proba.predict_proba(X)[:,1] #我的类别1下面的概率"
   ]
  },
  {
   "cell_type": "code",
   "execution_count": 61,
   "metadata": {},
   "outputs": [],
   "source": [
    "#阈值，每一个阈值都对应着一次循环，每一次循环，都要有一个混淆矩阵，要有一组假正率vsRecall"
   ]
  },
  {
   "cell_type": "code",
   "execution_count": 62,
   "metadata": {},
   "outputs": [],
   "source": [
    "#np.lispance(概率最小值，概率最大值，55，endpoint=False) #不要取到最大值\n",
    "#if i > 概率最大值, 返回1"
   ]
  },
  {
   "cell_type": "code",
   "execution_count": 63,
   "metadata": {},
   "outputs": [
    {
     "data": {
      "image/png": "[encoded data removed]",
      "text/plain": [
       "<Figure size 432x288 with 1 Axes>"
      ]
     },
     "metadata": {
      "needs_background": "light"
     },
     "output_type": "display_data"
    }
   ],
   "source": [
    "#开始绘图\n",
    "probrange = np.linspace(clf_proba.predict_proba(X)[:,1].min(),clf_proba.predict_proba(X)[:,1].max(),num=50,endpoint=False)\n",
    "\n",
    "from sklearn.metrics import confusion_matrix as CM, recall_score as R\n",
    "import matplotlib.pyplot as plot\n",
    "\n",
    "recall = []\n",
    "FPR = []\n",
    "\n",
    "for i in probrange:\n",
    "    y_predict = []\n",
    "    for j in range(X.shape[0]):\n",
    "        if clf_proba.predict_proba(X)[j,1] > i:\n",
    "            y_predict.append(1)\n",
    "        else:\n",
    "            y_predict.append(0)\n",
    "    cm = CM(y,y_predict,labels=[1,0])\n",
    "    recall.append(cm[0,0]/cm[0,:].sum())\n",
    "    FPR.append(cm[1,0]/cm[1,:].sum())\n",
    "\n",
    "recall.sort()\n",
    "FPR.sort()\n",
    "\n",
    "plt.plot(FPR,recall,c=\"red\")\n",
    "plt.plot(probrange+0.05,probrange+0.05,c=\"black\",linestyle=\"--\")\n",
    "plt.show()"
   ]
  },
  {
   "cell_type": "code",
   "execution_count": 64,
   "metadata": {},
   "outputs": [],
   "source": [
    "from sklearn.metrics import roc_curve"
   ]
  },
  {
   "cell_type": "code",
   "execution_count": 65,
   "metadata": {},
   "outputs": [],
   "source": [
    "FPR, recall, thresholds = roc_curve(y,clf_proba.decision_function(X), pos_label=1)"
   ]
  },
  {
   "cell_type": "code",
   "execution_count": 66,
   "metadata": {},
   "outputs": [
    {
     "data": {
      "text/plain": [
       "(45,)"
      ]
     },
     "execution_count": 66,
     "metadata": {},
     "output_type": "execute_result"
    }
   ],
   "source": [
    "FPR.shape"
   ]
  },
  {
   "cell_type": "code",
   "execution_count": 67,
   "metadata": {},
   "outputs": [
    {
     "data": {
      "text/plain": [
       "(45,)"
      ]
     },
     "execution_count": 67,
     "metadata": {},
     "output_type": "execute_result"
    }
   ],
   "source": [
    "recall.shape"
   ]
  },
  {
   "cell_type": "code",
   "execution_count": 68,
   "metadata": {},
   "outputs": [
    {
     "data": {
      "text/plain": [
       "(45,)"
      ]
     },
     "execution_count": 68,
     "metadata": {},
     "output_type": "execute_result"
    }
   ],
   "source": [
    "thresholds.shape #此时的threshold就不是一个概率值，而是距离值中的阈值了，所以它可以大于1，也可以为负"
   ]
  },
  {
   "cell_type": "code",
   "execution_count": 69,
   "metadata": {},
   "outputs": [
    {
     "data": {
      "text/plain": [
       "array([  3.18236076,   2.18236076,   1.48676267,   1.35964325,\n",
       "         1.33920817,   1.14038015,   1.13383091,   1.00003406,\n",
       "         0.85085628,   0.84476439,   0.78571364,   0.60568093,\n",
       "         0.5389064 ,   0.46718521,   0.44396046,   0.03907036,\n",
       "        -0.07011269,  -0.10668727,  -0.1258212 ,  -0.13845693,\n",
       "        -0.14034183,  -0.16790648,  -0.2040958 ,  -0.22137683,\n",
       "        -0.24381463,  -0.26762451,  -0.34446784,  -0.3467975 ,\n",
       "        -0.39182241,  -0.40676459,  -0.4589064 ,  -0.46310299,\n",
       "        -0.49195707,  -0.5088941 ,  -0.53560561,  -0.55152081,\n",
       "        -0.62628865,  -0.67580418,  -0.78127198,  -0.79874442,\n",
       "        -0.88438995,  -0.91257798,  -1.01417607,  -1.08601917,\n",
       "       -10.31959605])"
      ]
     },
     "execution_count": 69,
     "metadata": {},
     "output_type": "execute_result"
    }
   ],
   "source": [
    "thresholds #decision_function"
   ]
  },
  {
   "cell_type": "code",
   "execution_count": 70,
   "metadata": {},
   "outputs": [],
   "source": [
    "from sklearn.metrics import roc_auc_score as AUC"
   ]
  },
  {
   "cell_type": "code",
   "execution_count": 71,
   "metadata": {},
   "outputs": [],
   "source": [
    "area = AUC(y,clf_proba.decision_function(X))"
   ]
  },
  {
   "cell_type": "code",
   "execution_count": 72,
   "metadata": {},
   "outputs": [],
   "source": [
    "#min = 0\n",
    "#max = 1"
   ]
  },
  {
   "cell_type": "code",
   "execution_count": 73,
   "metadata": {},
   "outputs": [
    {
     "data": {
      "image/png": "[encoded data removed]",
      "text/plain": [
       "<Figure size 432x288 with 1 Axes>"
      ]
     },
     "metadata": {
      "needs_background": "light"
     },
     "output_type": "display_data"
    }
   ],
   "source": [
    "plt.figure()\n",
    "plt.plot(FPR, recall, color='red',\n",
    "         label='ROC curve (area = %0.2f)' % area)\n",
    "plt.plot([0, 1], [0, 1], color='black',linestyle='--')\n",
    "plt.xlim([-0.05, 1.05])\n",
    "plt.ylim([-0.05, 1.05])\n",
    "plt.xlabel('False Positive Rate')\n",
    "plt.ylabel('Recall')\n",
    "plt.title('Receiver operating characteristic example')\n",
    "plt.legend(loc=\"lower right\")\n",
    "plt.show()"
   ]
  },
  {
   "cell_type": "code",
   "execution_count": 74,
   "metadata": {},
   "outputs": [
    {
     "data": {
      "text/plain": [
       "0.914"
      ]
     },
     "execution_count": 74,
     "metadata": {},
     "output_type": "execute_result"
    }
   ],
   "source": [
    "max((recall - FPR).tolist())"
   ]
  },
  {
   "cell_type": "code",
   "execution_count": 75,
   "metadata": {},
   "outputs": [],
   "source": [
    "#lits.index(最大值) #返回这个最大值在list中的索引"
   ]
  },
  {
   "cell_type": "code",
   "execution_count": 76,
   "metadata": {},
   "outputs": [],
   "source": [
    "maxindex = (recall - FPR).tolist().index(max(recall - FPR))"
   ]
  },
  {
   "cell_type": "code",
   "execution_count": 77,
   "metadata": {},
   "outputs": [
    {
     "data": {
      "text/plain": [
       "43"
      ]
     },
     "execution_count": 77,
     "metadata": {},
     "output_type": "execute_result"
    }
   ],
   "source": [
    "maxindex #recall, FPR"
   ]
  },
  {
   "cell_type": "code",
   "execution_count": 78,
   "metadata": {},
   "outputs": [
    {
     "data": {
      "text/plain": [
       "-1.0860191749391461"
      ]
     },
     "execution_count": 78,
     "metadata": {},
     "output_type": "execute_result"
    }
   ],
   "source": [
    "thresholds[maxindex] #decision_function生成的置信度来说"
   ]
  },
  {
   "cell_type": "code",
   "execution_count": 79,
   "metadata": {},
   "outputs": [
    {
     "data": {
      "text/plain": [
       "<matplotlib.collections.PathCollection at 0x1ad6d4369e8>"
      ]
     },
     "execution_count": 79,
     "metadata": {},
     "output_type": "execute_result"
    },
    {
     "data": {
      "image/png": "[encoded data removed]",
      "text/plain": [
       "<Figure size 432x288 with 1 Axes>"
      ]
     },
     "metadata": {
      "needs_background": "light"
     },
     "output_type": "display_data"
    }
   ],
   "source": [
    "#我们可以在图像上来看看这个点在哪里\n",
    "plt.scatter(FPR[maxindex],recall[maxindex],c=\"black\",s=30)"
   ]
  },
  {
   "cell_type": "code",
   "execution_count": 80,
   "metadata": {},
   "outputs": [
    {
     "data": {
      "image/png": "[encoded data removed]",
      "text/plain": [
       "<Figure size 432x288 with 1 Axes>"
      ]
     },
     "metadata": {
      "needs_background": "light"
     },
     "output_type": "display_data"
    }
   ],
   "source": [
    "#把上述代码放入这段代码中：\n",
    "plt.figure()\n",
    "plt.plot(FPR, recall, color='red',\n",
    "         label='ROC curve (area = %0.2f)' % area)\n",
    "plt.plot([0, 1], [0, 1], color='black', linestyle='--')\n",
    "plt.scatter(FPR[maxindex],recall[maxindex],c=\"black\",s=30)\n",
    "plt.xlim([-0.05, 1.05])\n",
    "plt.ylim([-0.05, 1.05])\n",
    "plt.xlabel('False Positive Rate')\n",
    "plt.ylabel('Recall')\n",
    "plt.title('Receiver operating characteristic example')\n",
    "plt.legend(loc=\"lower right\")\n",
    "plt.show()"
   ]
  },
  {
   "cell_type": "code",
   "execution_count": 81,
   "metadata": {},
   "outputs": [
    {
     "data": {
      "text/plain": [
       "array([[-1.        , -1.        , -1.        , -1.        , -1.        ,\n",
       "        -1.        , -1.        , -1.        , -1.        , -1.        ,\n",
       "        -1.        , -1.        , -1.        , -1.        , -1.        ,\n",
       "        -1.        , -1.        , -1.        , -1.        , -1.        ,\n",
       "        -1.        , -1.        , -1.        , -1.        , -0.50312301,\n",
       "        -1.        , -1.        , -1.        , -1.        , -1.        ,\n",
       "        -1.        , -1.        , -1.        , -1.        , -1.        ,\n",
       "        -1.        , -1.        , -1.        , -1.        , -1.        ,\n",
       "        -1.        , -0.25015141,  0.75327442,  1.        ,  1.        ,\n",
       "         1.        ,  1.        ,  1.        ,  1.        ,  1.        ,\n",
       "         1.        ,  1.        ,  1.        ,  1.        ,  1.        ,\n",
       "         1.        ,  1.        ,  1.        ,  1.        ,  1.        ,\n",
       "         1.        ,  1.        ,  1.        ,  1.        ,  1.        ,\n",
       "         1.        ,  1.        ,  1.        ,  1.        ,  1.        ,\n",
       "         1.        ,  1.        ,  1.        ,  1.        ,  1.        ,\n",
       "         1.        ,  1.        ,  1.        ,  1.        ,  1.        ,\n",
       "         1.        ,  1.        ,  1.        ]])"
      ]
     },
     "execution_count": 81,
     "metadata": {},
     "output_type": "execute_result"
    }
   ],
   "source": [
    "clf_proba.dual_coef_"
   ]
  },
  {
   "cell_type": "code",
   "execution_count": 84,
   "metadata": {},
   "outputs": [
    {
     "data": {
      "text/plain": [
       "(83, 2)"
      ]
     },
     "execution_count": 84,
     "metadata": {},
     "output_type": "execute_result"
    }
   ],
   "source": [
    "clf_proba.support_vectors_.shape"
   ]
  },
  {
   "cell_type": "code",
   "execution_count": 86,
   "metadata": {},
   "outputs": [
    {
     "data": {
      "text/plain": [
       "(1, 83)"
      ]
     },
     "execution_count": 86,
     "metadata": {},
     "output_type": "execute_result"
    }
   ],
   "source": [
    "clf_proba.dual_coef_.shape"
   ]
  },
  {
   "cell_type": "code",
   "execution_count": null,
   "metadata": {},
   "outputs": [],
   "source": []
  }
 ],
 "metadata": {
  "kernelspec": {
   "display_name": "Python 3",
   "language": "python",
   "name": "python3"
  },
  "language_info": {
   "codemirror_mode": {
    "name": "ipython",
    "version": 3
   },
   "file_extension": ".py",
   "mimetype": "text/x-python",
   "name": "python",
   "nbconvert_exporter": "python",
   "pygments_lexer": "ipython3",
   "version": "3.7.1"
  }
 },
 "nbformat": 4,
 "nbformat_minor": 2
}
